{
 "cells": [
  {
   "cell_type": "markdown",
   "metadata": {},
   "source": [
    "### <p style=\"text-align: right;\"> &#9989; Samuel Ryan</p>"
   ]
  },
  {
   "cell_type": "markdown",
   "metadata": {},
   "source": [
    "# Homework Assignment #1 (Individual)\n",
    "## Git Practice, Debugging Practice, Modeling the Distribution of Wealth, and Writing Python Scripts\n",
    "\n",
    "<img src=\"https://www.researchgate.net/profile/Asim_Ghosh/publication/255722603/figure/fig3/AS:360976034615302@1463074801419/One-of-the-recent-reporting-on-econophysics-research-from-India_W640.jpg\" width=450><p style=\"text-align: right;\">\n",
    "</p>"
   ]
  },
  {
   "cell_type": "markdown",
   "metadata": {},
   "source": [
    "### Goals for this homework assignment\n",
    "By the end of this assignment, you should be able to:\n",
    "* Use Git to create a repository, track changes to the files within the repository, and push those changes to a remote repository.\n",
    "* Debug Python code.\n",
    "* Work with Python data structures (e.g. lists and numpy arrays) to create a simple econophysics model.\n",
    "* Make plots of your model using <code>matplotlib</code>.\n",
    "* Practice writing and executing a Python script.\n",
    "\n",
    "### Assignment instructions\n",
    "\n",
    "Work through the following assignment, making sure to follow all of the directions and answer all of the questions.\n",
    "\n",
    "There are **25 points** possible on this assignment. Point values for each part are included in the section headers.\n",
    "\n",
    "**This assignment is due roughly two weeks from now at 11:59pm on Friday, September 21st.** It should be uploaded into the \"Homework Assignments\" submission folder for Homework #1.  Submission instructions can be found at the end of the notebook."
   ]
  },
  {
   "cell_type": "markdown",
   "metadata": {},
   "source": [
    "---\n",
    "## Part 1: Setting up a git repository to track your progress on your assignment (5 points)\n",
    "\n",
    "For this assignment, you're going to create a Git repository on GitHub so that you can track your progress on the assignment and preserve the final version that you turn in. In order to do this you need to:\n",
    "\n",
    "1. Set up a new ***private*** repository on https://github.com/ called \"`cmse202-f18-hw1`\".\n",
    "2. Add your Professor and your TA as collaborators with \"Read\" access to your repository so that we can see your assignment. For Section 001, you should add users \"devinsilvia\" and \"rmlarose\". For Section 002, you should add users \"pguthrey\" and \"rmlarose\".\n",
    "3. Clone the repository on to your computer.\n",
    "4. Move this notebook into that newly cloned repository.\n",
    "5. Add the notebook file to your git repository.\n",
    "6. Commit the addition to your repository.\n",
    "7. Finally, to test that everything is working, \"git push\" the file so that it ends up in your GitHub repository.\n",
    "\n",
    "If everything went as intended, the file should now show up on your GitHub account in the \"`cmse202-f18-hw1`\" repository that you just created.  Periodically, **you'll be asked to commit your changes to the repository and push them to the remote GitHub location**. Of course, you can always commit your changes more often than that, if you wish.  It can be good to get into a habit of committing your changes any time you make a significant modification, or when you stop working on the project for a bit."
   ]
  },
  {
   "cell_type": "markdown",
   "metadata": {},
   "source": [
    "---\n",
    "\n",
    "---\n",
    "\n",
    "## Part 2: Debugging code: understanding error messages (6 points)\n",
    "\n",
    "For the next part of this assignment, you're going to presented with a variety of code bugs and your job is to fix them."
   ]
  },
  {
   "cell_type": "markdown",
   "metadata": {},
   "source": [
    "### Fixing errors\n",
    "\n",
    "**Question**: Resolve the errors in the following pieces of code and add a comment that explains what was wrong in the first place."
   ]
  },
  {
   "cell_type": "code",
   "execution_count": 2,
   "metadata": {
    "scrolled": true
   },
   "outputs": [
    {
     "ename": "SyntaxError",
     "evalue": "invalid syntax (<ipython-input-2-58efd8f723bc>, line 1)",
     "output_type": "error",
     "traceback": [
      "\u001b[0;36m  File \u001b[0;32m\"<ipython-input-2-58efd8f723bc>\"\u001b[0;36m, line \u001b[0;32m1\u001b[0m\n\u001b[0;31m    for i in range(10)\u001b[0m\n\u001b[0m                      ^\u001b[0m\n\u001b[0;31mSyntaxError\u001b[0m\u001b[0;31m:\u001b[0m invalid syntax\n"
     ]
    }
   ],
   "source": [
    "for i in range(10):\n",
    "    print(\"The value of i is %i\" %i)"
   ]
  },
  {
   "cell_type": "code",
   "execution_count": 4,
   "metadata": {},
   "outputs": [
    {
     "name": "stdout",
     "output_type": "stream",
     "text": [
      "Invalid Input (Dividing by Zero)\n",
      "The value of the fraction is 5.000000\n"
     ]
    }
   ],
   "source": [
    "def compute_fraction(numerator, denominator):\n",
    "    if denominator != 0:\n",
    "        \n",
    "        fraction = numerator/denominator\n",
    "        print(\"The value of the fraction is %f\" %fraction)\n",
    "    \n",
    "    else:\n",
    "        print(\"Invalid Input (Dividing by Zero)\")\n",
    "compute_fraction(5, 0)\n",
    "compute_fraction(5, 1)"
   ]
  },
  {
   "cell_type": "code",
   "execution_count": 5,
   "metadata": {},
   "outputs": [
    {
     "name": "stdout",
     "output_type": "stream",
     "text": [
      "The value of the fraction is 0.040000\n"
     ]
    }
   ],
   "source": [
    "def compute_fraction(numerator, denominator):\n",
    "    fraction = numerator/denominator\n",
    "    print(\"The value of the fraction is %f\" %fraction)\n",
    "    \n",
    "compute_fraction(1, 25)"
   ]
  },
  {
   "cell_type": "code",
   "execution_count": 6,
   "metadata": {},
   "outputs": [
    {
     "name": "stdout",
     "output_type": "stream",
     "text": [
      "The value of the 10th element is 9\n"
     ]
    }
   ],
   "source": [
    "import numpy as np\n",
    "\n",
    "n = np.arange(20)\n",
    "print(\"The value of the 10th element is %d\" %n[9])"
   ]
  },
  {
   "cell_type": "code",
   "execution_count": 7,
   "metadata": {},
   "outputs": [
    {
     "name": "stdout",
     "output_type": "stream",
     "text": [
      "1\n",
      "3\n",
      "5\n",
      "7\n",
      "9\n",
      "2\n",
      "4\n",
      "6\n",
      "8\n",
      "10\n"
     ]
    }
   ],
   "source": [
    "odd = [1, 3, 5, 7, 9]\n",
    "even = [2, 4, 6, 8, 10]\n",
    "\n",
    "for i in odd:\n",
    "    print(i)\n",
    "    \n",
    "for j in even:\n",
    "    print(j)"
   ]
  },
  {
   "cell_type": "code",
   "execution_count": 8,
   "metadata": {},
   "outputs": [
    {
     "name": "stdout",
     "output_type": "stream",
     "text": [
      "hola\n",
      "uno dos tres\n",
      "naranja\n"
     ]
    }
   ],
   "source": [
    "spanish = dict()\n",
    "spanish['hello'] = 'hola'\n",
    "spanish['yes'] = 'si'\n",
    "spanish['one'] = 'uno'\n",
    "spanish['two'] = 'dos'\n",
    "spanish['three'] = 'tres'\n",
    "spanish['red'] = 'rojo'\n",
    "spanish['black'] = 'negro'\n",
    "spanish['green'] = 'verde'\n",
    "spanish['blue'] = 'azul'\n",
    "spanish['orange'] = 'naranja'\n",
    "print(spanish[\"hello\"])\n",
    "print(spanish[\"one\"], spanish[\"two\"], spanish[\"three\"])\n",
    "print(spanish[\"orange\"])"
   ]
  },
  {
   "cell_type": "markdown",
   "metadata": {},
   "source": [
    "---\n",
    "### STOP\n",
    "Take a moment to save your notebook, commit the changes to your Git repository using the commit message \"Finished Part 2\", and push the changes to GitHub.\n",
    "\n",
    "---"
   ]
  },
  {
   "cell_type": "markdown",
   "metadata": {},
   "source": [
    "---\n",
    "## Part 3: Modeling the distribution of wealth (14 points)\n",
    "\n",
    "In this part of the assignment, you'll develop what is often referred to as an \"econophysics\" model. You'll be modeling the nature of financial transactions between individuals and see how these transactions influence the overall distribution of wealth.\n",
    "\n",
    "You'll start out with the simplest possible model and then you'll add bit of complexity to the model and see how it changes the results.\n",
    "\n",
    "### 3.1 The simplest wealth model (6 points)\n",
    "\n",
    "For this part of the assignment, you're going to write a program that models money being exchanged between two individuals selected at random. The rules of the model are the following:\n",
    "\n",
    "1. Everyone in the model starts with the same amount of money, $m_0$.\n",
    "2. Assume you have $N$ individuals in your model exchanging money.\n",
    "3. During each step of the model, you select two of them at random. These two individuals will exchange 1 unit of money such that after the exchange, one individual is left with one *less* unit of money than they had before and the other person is left with 1 *more* unit of money.\n",
    "\n",
    "Mathematically, your transactions should look like the following every time you pick two random people:\n",
    "\n",
    "$$ p_{1,\\mathrm{new}} = p_{1,\\mathrm{old}} - 1 $$\n",
    "$$ p_{2,\\mathrm{new}} = p_{2,\\mathrm{old}} + 1 $$\n",
    "\n",
    "where $p_1$ is the amount of money that the first person has and $p_2$ is the amount of money that the second person has.\n",
    "\n",
    "After you complete one transaction, you chose two people at random again and complete another transaction. You can continue this process for many time steps.\n",
    "\n",
    "There are a few things you should to consider when implementing this model:\n",
    "\n",
    "1. Should individuals be allowed to go into debt? Is it possible in your model for people to end up with a negative amount of money?\n",
    "2. If either Person 1 or Person 2 has no money, should they be allowed to participate in the exchange?\n",
    "3. What does the distribution of wealth look like after many timesteps? (*Hint*: you'll probably want to make a histogram.) From your experience in the real world, does this result make sense?\n",
    "\n",
    "**Code up a solution to this simple model. Make sure to clearly state the assumptions you use in your model. Include a plot of the distribution of wealth and make sure your plot has appropriate axis labels!**\n",
    "\n",
    "Assume that everyone starts with $m_0 = 1$ and that there are $N = 500$ people in your model. You'll want to explore running the model for differment amounts of time."
   ]
  },
  {
   "cell_type": "markdown",
   "metadata": {},
   "source": [
    "**My model assumptions are...** (edit this cell and explain your assumptions here)\n",
    "1. If you have no money you cannot give, however you may recieve money if you have none (this can be changed to make a more \"strict\" model where there are no handouts and once you are at the bottom you can't leave.)\n",
    "2. Nobody goes into debt\n",
    "3. No external addition or removal of wealth "
   ]
  },
  {
   "cell_type": "code",
   "execution_count": 85,
   "metadata": {},
   "outputs": [
    {
     "data": {
      "image/png": "[encoded data removed]",
      "text/plain": [
       "<matplotlib.figure.Figure at 0x11659ccc0>"
      ]
     },
     "metadata": {},
     "output_type": "display_data"
    }
   ],
   "source": [
    "import numpy\n",
    "import random\n",
    "import math\n",
    "import matplotlib.pyplot as plt\n",
    "%matplotlib inline\n",
    "figure, axes = plt.subplots(3,1)\n",
    "#\n",
    "# Put your code here\n",
    "# \n",
    "\n",
    "\n",
    "people = [1 for i in range(500)]\n",
    "for i in range(1000):\n",
    "    n = random.randint(0,499)\n",
    "    m = random.randint(0,499)\n",
    "    x = people[n] #  Arbitrarily, we'll say x gives the money\n",
    "    y = people[m] # and y gets the money \n",
    "    if x != 0:\n",
    "        people[n] -= 1\n",
    "        people[m] += 1      # Note there is not a check for n!=m because n=m results in no net change for the person\n",
    "axes[0].hist(people)\n",
    "axes[0].set_xlabel(\"Person\")\n",
    "axes[0].set_ylabel(\"Wealth\")\n",
    "axes[0].set_title(\"500 trials\")\n",
    "\n",
    "\n",
    "for i in range(1000):\n",
    "    n = random.randint(0,499)\n",
    "    m = random.randint(0,499)\n",
    "    x = people[n] #  Arbitrarily, we'll say x gives the money\n",
    "    y = people[m] # and y gets the money \n",
    "    if x != 0:\n",
    "        people[n] -= 1\n",
    "        people[m] += 1\n",
    "        \n",
    "axes[1].hist(people)\n",
    "axes[1].set_xlabel(\"Person\")\n",
    "axes[1].set_ylabel(\"Wealth\")\n",
    "axes[1].set_title(\"1000 trials\")\n",
    "\n",
    "\n",
    "for i in range(1500):\n",
    "    n = random.randint(0,499)\n",
    "    m = random.randint(0,499)\n",
    "    x = people[n] #  Arbitrarily, we'll say x gives the money\n",
    "    y = people[m] # and y gets the money \n",
    "    if x != 0:\n",
    "        people[n] -= 1\n",
    "        people[m] += 1\n",
    "\n",
    "axes[2].hist(people)\n",
    "axes[2].set_xlabel(\"Person\")\n",
    "axes[2].set_ylabel(\"Wealth\")\n",
    "axes[2].set_title(\"1500 trials\")\n",
    "\n",
    "\n",
    "plt.tight_layout()"
   ]
  },
  {
   "cell_type": "markdown",
   "metadata": {},
   "source": [
    "#### Comparing to a statisical mechanics model\n",
    "\n",
    "In statistical mechanics, a subfield of physics, it has been show that when particles interact and exchange energy, the energy distribution of the particles begins to follow a mathematical model called a [Gibbs Distribution or a Boltzmann Distribution](https://en.wikipedia.org/wiki/Boltzmann_distribution).\n",
    "\n",
    "The mathematical form of this distribution is of the form:\n",
    "\n",
    "$$e^{-\\beta m}$$\n",
    "\n",
    "where $\\beta = \\frac{1}{\\frac{\\sum_i p_i}{N}} = \\frac{1}{m_0}$, since $m_0$ is the average amount of money that everyone has. Does your simulation fit this result?\n",
    "\n",
    "**Overplot this distribution with the final distribution of your wealth and comment on the result. Make sure your plot has appropriate axis labels!**"
   ]
  },
  {
   "cell_type": "code",
   "execution_count": 87,
   "metadata": {},
   "outputs": [
    {
     "data": {
      "image/png": "[encoded data removed]",
      "text/plain": [
       "<matplotlib.figure.Figure at 0x1168f2f98>"
      ]
     },
     "metadata": {},
     "output_type": "display_data"
    }
   ],
   "source": [
    "#\n",
    "# Put your code here\n",
    "#\n",
    "\n",
    "plt.hist(people)\n",
    "plt.xlabel(\"Person\")\n",
    "plt.ylabel(\"Wealth\")\n",
    "plt.title(\"1500 trials\")\n",
    "e = math.e\n",
    "t = numpy.linspace(0,8,500)\n",
    "b = 320*e**(-t)\n",
    "\n",
    "plt.plot(t,b,label = \"Gibbs Distribution\")\n",
    "\n",
    "plt.legend()\n",
    "plt.tight_layout()"
   ]
  },
  {
   "cell_type": "markdown",
   "metadata": {},
   "source": [
    "The histograms above show that as we do more and more transactions the wealth becomes more and more concentrated among a group of extremely wealthy individuals. This makes sence given the wealth disparity seen in more countried where free and "
   ]
  },
  {
   "cell_type": "markdown",
   "metadata": {},
   "source": [
    "---\n",
    "### STOP\n",
    "Take a moment to save your notebook, commit the changes to your Git repository using the commit message \"Finished Part 3.1\", and push the changes to GitHub.\n",
    "\n",
    "---"
   ]
  },
  {
   "cell_type": "markdown",
   "metadata": {},
   "source": [
    "### 3.2 Scripting a slightly more sophisticated treatment of the financial transactions (8 points)\n",
    "\n",
    "In the previous version of the model, individuals could only end up with integer amounts of money. However, we know that this constraint is does not exist in the real world, nor does it exist when we think about the energy of particles. **Your job is to code up a more sophicated solution and plot the results to see if the distribution in the new solution agrees with the one in your old solution.**\n",
    "\n",
    "However, instead of coding up your solution in this notebook, you are going to code up your solution **using a Python script called `run_model.py` and save your plots as PNG files.**\n",
    "\n",
    "The modification to the model is that when two randomly selected individuals exchange money, one individual ends up with a ***random*** fraction, $f$, of the combination of their current wealth, and the other individual ends up with everything else. Mathematically, it looks like this:\n",
    "\n",
    "$$ p_{1,\\mathrm{new}} = f~(p_{1,\\mathrm{old}} + p_{2,\\mathrm{old}}) $$\n",
    "$$ p_{2,\\mathrm{new}} = (1-f)~(p_{1,\\mathrm{old}} + p_{2,\\mathrm{old}}) $$\n",
    "\n",
    "For this new solution, assume there are still $N = 500$ people, but assume that everyone starts out with $m_0 = 1000$.\n",
    "\n",
    "In your \"run_model.py\" script, you should include all of the code necessary to:\n",
    "\n",
    "1. Run your model for a fixed number of time steps for the correct initial conditions.\n",
    "2. Keep track of the total amount of money in the system as a function of time.\n",
    "2. Save a plot of the final distribution of wealth.\n",
    "3. Save a plot that overplots the Boltzmann distribution on top of the final wealth distribution.\n",
    "4. Save a plot that shows that your model satisfies the \"conversation of money.\" That is, the total amount of money in the system should remain constant as a function of time. Since this problem is analagous to particle energies in physics, the physical law of conservation of energy in the model should apply as well and money is our proxy for energy.\n",
    "\n",
    "**Note**: All plots should be saved as PNG files and include appropriate axis labels!\n",
    "\n",
    "Your instructor should be able to simply run the following on the command line to execute your code:\n",
    "\n",
    "`$python run_model.py`"
   ]
  },
  {
   "cell_type": "markdown",
   "metadata": {},
   "source": [
    "**Question**: Does your more sophisticated model agree with the results for your simpler model? What are the major differences between the two models? Respond in the cell below."
   ]
  },
  {
   "cell_type": "markdown",
   "metadata": {},
   "source": [
    "*Put you answer here*"
   ]
  },
  {
   "cell_type": "markdown",
   "metadata": {},
   "source": [
    "---\n",
    "### STOP\n",
    "Once your script is done, add and commit the script to your Git repository using the commit message \"Adding script for Part 3.2\", and push the changes to GitHub.\n",
    "\n",
    "---"
   ]
  },
  {
   "cell_type": "markdown",
   "metadata": {},
   "source": [
    "---\n",
    "### Assignment wrap-up\n",
    "\n",
    "Please fill out the form that appears when you run the code below.  **You must completely fill this out in order to receive credit for the assignment!**"
   ]
  },
  {
   "cell_type": "code",
   "execution_count": null,
   "metadata": {
    "collapsed": true
   },
   "outputs": [],
   "source": [
    "from IPython.display import HTML\n",
    "HTML(\n",
    "\"\"\"\n",
    "<iframe \n",
    "\tsrc=\"https://goo.gl/forms/Lfg22yYDfdxIU2F42\" \n",
    "\twidth=\"80%\" \n",
    "\theight=\"1200px\" \n",
    "\tframeborder=\"0\" \n",
    "\tmarginheight=\"0\" \n",
    "\tmarginwidth=\"0\">\n",
    "\tLoading...\n",
    "</iframe>\n",
    "\"\"\"\n",
    ")"
   ]
  },
  {
   "cell_type": "markdown",
   "metadata": {},
   "source": [
    "### Congratulations, you're done!\n",
    "\n",
    "Submit this assignment by uploading it to the course Desire2Learn web page.  Go to the \"Homework Assignments\" folder, find the dropbox link for Homework #1, and upload it there."
   ]
  },
  {
   "cell_type": "markdown",
   "metadata": {},
   "source": [
    "&#169; Copyright 2018,  Michigan State University Board of Trustees"
   ]
  }
 ],
 "metadata": {
  "anaconda-cloud": {},
  "kernelspec": {
   "display_name": "Python 3",
   "language": "python",
   "name": "python3"
  }
 },
 "nbformat": 4,
 "nbformat_minor": 2
}
